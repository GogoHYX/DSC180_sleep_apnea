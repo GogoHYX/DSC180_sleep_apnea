{
 "cells": [
  {
   "cell_type": "code",
   "execution_count": null,
   "metadata": {
    "collapsed": true
   },
   "outputs": [],
   "source": []
  },
  {
   "cell_type": "markdown",
   "source": [
    "EDA"
   ],
   "metadata": {
    "collapsed": false
   }
  },
  {
   "cell_type": "code",
   "execution_count": 2,
   "outputs": [],
   "source": [
    "import os\n",
    "import numpy as np\n",
    "import pandas as pd\n",
    "import matplotlib.pyplot as plt\n",
    "import seaborn as sns"
   ],
   "metadata": {
    "collapsed": false,
    "pycharm": {
     "name": "#%%\n"
    }
   }
  },
  {
   "cell_type": "code",
   "execution_count": 3,
   "outputs": [],
   "source": [
    "#data directory\n",
    "data_dir = \"/Users/gogo/Downloads/DSC180b/hchs\""
   ],
   "metadata": {
    "collapsed": false,
    "pycharm": {
     "name": "#%%\n"
    }
   }
  },
  {
   "cell_type": "code",
   "execution_count": 20,
   "outputs": [
    {
     "ename": "FileNotFoundError",
     "evalue": "[Errno 2] No such file or directory: '/Users/gogo/Downloads/DSC180b/hchs/hchs-sol-sueno-00238589.csv'",
     "output_type": "error",
     "traceback": [
      "\u001B[0;31m---------------------------------------------------------------------------\u001B[0m",
      "\u001B[0;31mFileNotFoundError\u001B[0m                         Traceback (most recent call last)",
      "\u001B[0;32m<ipython-input-20-c12f60353b3b>\u001B[0m in \u001B[0;36m<module>\u001B[0;34m\u001B[0m\n\u001B[0;32m----> 1\u001B[0;31m \u001B[0mdf\u001B[0m \u001B[0;34m=\u001B[0m \u001B[0mpd\u001B[0m\u001B[0;34m.\u001B[0m\u001B[0mread_csv\u001B[0m\u001B[0;34m(\u001B[0m\u001B[0mos\u001B[0m\u001B[0;34m.\u001B[0m\u001B[0mpath\u001B[0m\u001B[0;34m.\u001B[0m\u001B[0mjoin\u001B[0m\u001B[0;34m(\u001B[0m\u001B[0mdata_dir\u001B[0m\u001B[0;34m,\u001B[0m \u001B[0;34m'hchs-sol-sueno-00238589.csv'\u001B[0m\u001B[0;34m)\u001B[0m\u001B[0;34m)\u001B[0m\u001B[0;34m\u001B[0m\u001B[0;34m\u001B[0m\u001B[0m\n\u001B[0m\u001B[1;32m      2\u001B[0m \u001B[0mdf\u001B[0m \u001B[0;34m=\u001B[0m \u001B[0mdf\u001B[0m\u001B[0;34m[\u001B[0m\u001B[0mdf\u001B[0m\u001B[0;34m.\u001B[0m\u001B[0moffwrist\u001B[0m\u001B[0;34m==\u001B[0m\u001B[0;36m0\u001B[0m\u001B[0;34m]\u001B[0m\u001B[0;34m\u001B[0m\u001B[0;34m\u001B[0m\u001B[0m\n",
      "\u001B[0;32m/Library/Frameworks/Python.framework/Versions/3.7/lib/python3.7/site-packages/pandas/util/_decorators.py\u001B[0m in \u001B[0;36mwrapper\u001B[0;34m(*args, **kwargs)\u001B[0m\n\u001B[1;32m    309\u001B[0m                     \u001B[0mstacklevel\u001B[0m\u001B[0;34m=\u001B[0m\u001B[0mstacklevel\u001B[0m\u001B[0;34m,\u001B[0m\u001B[0;34m\u001B[0m\u001B[0;34m\u001B[0m\u001B[0m\n\u001B[1;32m    310\u001B[0m                 )\n\u001B[0;32m--> 311\u001B[0;31m             \u001B[0;32mreturn\u001B[0m \u001B[0mfunc\u001B[0m\u001B[0;34m(\u001B[0m\u001B[0;34m*\u001B[0m\u001B[0margs\u001B[0m\u001B[0;34m,\u001B[0m \u001B[0;34m**\u001B[0m\u001B[0mkwargs\u001B[0m\u001B[0;34m)\u001B[0m\u001B[0;34m\u001B[0m\u001B[0;34m\u001B[0m\u001B[0m\n\u001B[0m\u001B[1;32m    312\u001B[0m \u001B[0;34m\u001B[0m\u001B[0m\n\u001B[1;32m    313\u001B[0m         \u001B[0;32mreturn\u001B[0m \u001B[0mwrapper\u001B[0m\u001B[0;34m\u001B[0m\u001B[0;34m\u001B[0m\u001B[0m\n",
      "\u001B[0;32m/Library/Frameworks/Python.framework/Versions/3.7/lib/python3.7/site-packages/pandas/io/parsers/readers.py\u001B[0m in \u001B[0;36mread_csv\u001B[0;34m(filepath_or_buffer, sep, delimiter, header, names, index_col, usecols, squeeze, prefix, mangle_dupe_cols, dtype, engine, converters, true_values, false_values, skipinitialspace, skiprows, skipfooter, nrows, na_values, keep_default_na, na_filter, verbose, skip_blank_lines, parse_dates, infer_datetime_format, keep_date_col, date_parser, dayfirst, cache_dates, iterator, chunksize, compression, thousands, decimal, lineterminator, quotechar, quoting, doublequote, escapechar, comment, encoding, encoding_errors, dialect, error_bad_lines, warn_bad_lines, on_bad_lines, delim_whitespace, low_memory, memory_map, float_precision, storage_options)\u001B[0m\n\u001B[1;32m    584\u001B[0m     \u001B[0mkwds\u001B[0m\u001B[0;34m.\u001B[0m\u001B[0mupdate\u001B[0m\u001B[0;34m(\u001B[0m\u001B[0mkwds_defaults\u001B[0m\u001B[0;34m)\u001B[0m\u001B[0;34m\u001B[0m\u001B[0;34m\u001B[0m\u001B[0m\n\u001B[1;32m    585\u001B[0m \u001B[0;34m\u001B[0m\u001B[0m\n\u001B[0;32m--> 586\u001B[0;31m     \u001B[0;32mreturn\u001B[0m \u001B[0m_read\u001B[0m\u001B[0;34m(\u001B[0m\u001B[0mfilepath_or_buffer\u001B[0m\u001B[0;34m,\u001B[0m \u001B[0mkwds\u001B[0m\u001B[0;34m)\u001B[0m\u001B[0;34m\u001B[0m\u001B[0;34m\u001B[0m\u001B[0m\n\u001B[0m\u001B[1;32m    587\u001B[0m \u001B[0;34m\u001B[0m\u001B[0m\n\u001B[1;32m    588\u001B[0m \u001B[0;34m\u001B[0m\u001B[0m\n",
      "\u001B[0;32m/Library/Frameworks/Python.framework/Versions/3.7/lib/python3.7/site-packages/pandas/io/parsers/readers.py\u001B[0m in \u001B[0;36m_read\u001B[0;34m(filepath_or_buffer, kwds)\u001B[0m\n\u001B[1;32m    480\u001B[0m \u001B[0;34m\u001B[0m\u001B[0m\n\u001B[1;32m    481\u001B[0m     \u001B[0;31m# Create the parser.\u001B[0m\u001B[0;34m\u001B[0m\u001B[0;34m\u001B[0m\u001B[0;34m\u001B[0m\u001B[0m\n\u001B[0;32m--> 482\u001B[0;31m     \u001B[0mparser\u001B[0m \u001B[0;34m=\u001B[0m \u001B[0mTextFileReader\u001B[0m\u001B[0;34m(\u001B[0m\u001B[0mfilepath_or_buffer\u001B[0m\u001B[0;34m,\u001B[0m \u001B[0;34m**\u001B[0m\u001B[0mkwds\u001B[0m\u001B[0;34m)\u001B[0m\u001B[0;34m\u001B[0m\u001B[0;34m\u001B[0m\u001B[0m\n\u001B[0m\u001B[1;32m    483\u001B[0m \u001B[0;34m\u001B[0m\u001B[0m\n\u001B[1;32m    484\u001B[0m     \u001B[0;32mif\u001B[0m \u001B[0mchunksize\u001B[0m \u001B[0;32mor\u001B[0m \u001B[0miterator\u001B[0m\u001B[0;34m:\u001B[0m\u001B[0;34m\u001B[0m\u001B[0;34m\u001B[0m\u001B[0m\n",
      "\u001B[0;32m/Library/Frameworks/Python.framework/Versions/3.7/lib/python3.7/site-packages/pandas/io/parsers/readers.py\u001B[0m in \u001B[0;36m__init__\u001B[0;34m(self, f, engine, **kwds)\u001B[0m\n\u001B[1;32m    809\u001B[0m             \u001B[0mself\u001B[0m\u001B[0;34m.\u001B[0m\u001B[0moptions\u001B[0m\u001B[0;34m[\u001B[0m\u001B[0;34m\"has_index_names\"\u001B[0m\u001B[0;34m]\u001B[0m \u001B[0;34m=\u001B[0m \u001B[0mkwds\u001B[0m\u001B[0;34m[\u001B[0m\u001B[0;34m\"has_index_names\"\u001B[0m\u001B[0;34m]\u001B[0m\u001B[0;34m\u001B[0m\u001B[0;34m\u001B[0m\u001B[0m\n\u001B[1;32m    810\u001B[0m \u001B[0;34m\u001B[0m\u001B[0m\n\u001B[0;32m--> 811\u001B[0;31m         \u001B[0mself\u001B[0m\u001B[0;34m.\u001B[0m\u001B[0m_engine\u001B[0m \u001B[0;34m=\u001B[0m \u001B[0mself\u001B[0m\u001B[0;34m.\u001B[0m\u001B[0m_make_engine\u001B[0m\u001B[0;34m(\u001B[0m\u001B[0mself\u001B[0m\u001B[0;34m.\u001B[0m\u001B[0mengine\u001B[0m\u001B[0;34m)\u001B[0m\u001B[0;34m\u001B[0m\u001B[0;34m\u001B[0m\u001B[0m\n\u001B[0m\u001B[1;32m    812\u001B[0m \u001B[0;34m\u001B[0m\u001B[0m\n\u001B[1;32m    813\u001B[0m     \u001B[0;32mdef\u001B[0m \u001B[0mclose\u001B[0m\u001B[0;34m(\u001B[0m\u001B[0mself\u001B[0m\u001B[0;34m)\u001B[0m\u001B[0;34m:\u001B[0m\u001B[0;34m\u001B[0m\u001B[0;34m\u001B[0m\u001B[0m\n",
      "\u001B[0;32m/Library/Frameworks/Python.framework/Versions/3.7/lib/python3.7/site-packages/pandas/io/parsers/readers.py\u001B[0m in \u001B[0;36m_make_engine\u001B[0;34m(self, engine)\u001B[0m\n\u001B[1;32m   1038\u001B[0m             )\n\u001B[1;32m   1039\u001B[0m         \u001B[0;31m# error: Too many arguments for \"ParserBase\"\u001B[0m\u001B[0;34m\u001B[0m\u001B[0;34m\u001B[0m\u001B[0;34m\u001B[0m\u001B[0m\n\u001B[0;32m-> 1040\u001B[0;31m         \u001B[0;32mreturn\u001B[0m \u001B[0mmapping\u001B[0m\u001B[0;34m[\u001B[0m\u001B[0mengine\u001B[0m\u001B[0;34m]\u001B[0m\u001B[0;34m(\u001B[0m\u001B[0mself\u001B[0m\u001B[0;34m.\u001B[0m\u001B[0mf\u001B[0m\u001B[0;34m,\u001B[0m \u001B[0;34m**\u001B[0m\u001B[0mself\u001B[0m\u001B[0;34m.\u001B[0m\u001B[0moptions\u001B[0m\u001B[0;34m)\u001B[0m  \u001B[0;31m# type: ignore[call-arg]\u001B[0m\u001B[0;34m\u001B[0m\u001B[0;34m\u001B[0m\u001B[0m\n\u001B[0m\u001B[1;32m   1041\u001B[0m \u001B[0;34m\u001B[0m\u001B[0m\n\u001B[1;32m   1042\u001B[0m     \u001B[0;32mdef\u001B[0m \u001B[0m_failover_to_python\u001B[0m\u001B[0;34m(\u001B[0m\u001B[0mself\u001B[0m\u001B[0;34m)\u001B[0m\u001B[0;34m:\u001B[0m\u001B[0;34m\u001B[0m\u001B[0;34m\u001B[0m\u001B[0m\n",
      "\u001B[0;32m/Library/Frameworks/Python.framework/Versions/3.7/lib/python3.7/site-packages/pandas/io/parsers/c_parser_wrapper.py\u001B[0m in \u001B[0;36m__init__\u001B[0;34m(self, src, **kwds)\u001B[0m\n\u001B[1;32m     49\u001B[0m \u001B[0;34m\u001B[0m\u001B[0m\n\u001B[1;32m     50\u001B[0m         \u001B[0;31m# open handles\u001B[0m\u001B[0;34m\u001B[0m\u001B[0;34m\u001B[0m\u001B[0;34m\u001B[0m\u001B[0m\n\u001B[0;32m---> 51\u001B[0;31m         \u001B[0mself\u001B[0m\u001B[0;34m.\u001B[0m\u001B[0m_open_handles\u001B[0m\u001B[0;34m(\u001B[0m\u001B[0msrc\u001B[0m\u001B[0;34m,\u001B[0m \u001B[0mkwds\u001B[0m\u001B[0;34m)\u001B[0m\u001B[0;34m\u001B[0m\u001B[0;34m\u001B[0m\u001B[0m\n\u001B[0m\u001B[1;32m     52\u001B[0m         \u001B[0;32massert\u001B[0m \u001B[0mself\u001B[0m\u001B[0;34m.\u001B[0m\u001B[0mhandles\u001B[0m \u001B[0;32mis\u001B[0m \u001B[0;32mnot\u001B[0m \u001B[0;32mNone\u001B[0m\u001B[0;34m\u001B[0m\u001B[0;34m\u001B[0m\u001B[0m\n\u001B[1;32m     53\u001B[0m \u001B[0;34m\u001B[0m\u001B[0m\n",
      "\u001B[0;32m/Library/Frameworks/Python.framework/Versions/3.7/lib/python3.7/site-packages/pandas/io/parsers/base_parser.py\u001B[0m in \u001B[0;36m_open_handles\u001B[0;34m(self, src, kwds)\u001B[0m\n\u001B[1;32m    227\u001B[0m             \u001B[0mmemory_map\u001B[0m\u001B[0;34m=\u001B[0m\u001B[0mkwds\u001B[0m\u001B[0;34m.\u001B[0m\u001B[0mget\u001B[0m\u001B[0;34m(\u001B[0m\u001B[0;34m\"memory_map\"\u001B[0m\u001B[0;34m,\u001B[0m \u001B[0;32mFalse\u001B[0m\u001B[0;34m)\u001B[0m\u001B[0;34m,\u001B[0m\u001B[0;34m\u001B[0m\u001B[0;34m\u001B[0m\u001B[0m\n\u001B[1;32m    228\u001B[0m             \u001B[0mstorage_options\u001B[0m\u001B[0;34m=\u001B[0m\u001B[0mkwds\u001B[0m\u001B[0;34m.\u001B[0m\u001B[0mget\u001B[0m\u001B[0;34m(\u001B[0m\u001B[0;34m\"storage_options\"\u001B[0m\u001B[0;34m,\u001B[0m \u001B[0;32mNone\u001B[0m\u001B[0;34m)\u001B[0m\u001B[0;34m,\u001B[0m\u001B[0;34m\u001B[0m\u001B[0;34m\u001B[0m\u001B[0m\n\u001B[0;32m--> 229\u001B[0;31m             \u001B[0merrors\u001B[0m\u001B[0;34m=\u001B[0m\u001B[0mkwds\u001B[0m\u001B[0;34m.\u001B[0m\u001B[0mget\u001B[0m\u001B[0;34m(\u001B[0m\u001B[0;34m\"encoding_errors\"\u001B[0m\u001B[0;34m,\u001B[0m \u001B[0;34m\"strict\"\u001B[0m\u001B[0;34m)\u001B[0m\u001B[0;34m,\u001B[0m\u001B[0;34m\u001B[0m\u001B[0;34m\u001B[0m\u001B[0m\n\u001B[0m\u001B[1;32m    230\u001B[0m         )\n\u001B[1;32m    231\u001B[0m \u001B[0;34m\u001B[0m\u001B[0m\n",
      "\u001B[0;32m/Library/Frameworks/Python.framework/Versions/3.7/lib/python3.7/site-packages/pandas/io/common.py\u001B[0m in \u001B[0;36mget_handle\u001B[0;34m(path_or_buf, mode, encoding, compression, memory_map, is_text, errors, storage_options)\u001B[0m\n\u001B[1;32m    705\u001B[0m                 \u001B[0mencoding\u001B[0m\u001B[0;34m=\u001B[0m\u001B[0mioargs\u001B[0m\u001B[0;34m.\u001B[0m\u001B[0mencoding\u001B[0m\u001B[0;34m,\u001B[0m\u001B[0;34m\u001B[0m\u001B[0;34m\u001B[0m\u001B[0m\n\u001B[1;32m    706\u001B[0m                 \u001B[0merrors\u001B[0m\u001B[0;34m=\u001B[0m\u001B[0merrors\u001B[0m\u001B[0;34m,\u001B[0m\u001B[0;34m\u001B[0m\u001B[0;34m\u001B[0m\u001B[0m\n\u001B[0;32m--> 707\u001B[0;31m                 \u001B[0mnewline\u001B[0m\u001B[0;34m=\u001B[0m\u001B[0;34m\"\"\u001B[0m\u001B[0;34m,\u001B[0m\u001B[0;34m\u001B[0m\u001B[0;34m\u001B[0m\u001B[0m\n\u001B[0m\u001B[1;32m    708\u001B[0m             )\n\u001B[1;32m    709\u001B[0m         \u001B[0;32melse\u001B[0m\u001B[0;34m:\u001B[0m\u001B[0;34m\u001B[0m\u001B[0;34m\u001B[0m\u001B[0m\n",
      "\u001B[0;31mFileNotFoundError\u001B[0m: [Errno 2] No such file or directory: '/Users/gogo/Downloads/DSC180b/hchs/hchs-sol-sueno-00238589.csv'"
     ]
    }
   ],
   "source": [
    "df = pd.read_csv(os.path.join(data_dir, 'hchs-sol-sueno-00238589.csv'))\n",
    "df = df[df.offwrist==0]"
   ],
   "metadata": {
    "collapsed": false,
    "pycharm": {
     "name": "#%%\n"
    }
   }
  },
  {
   "cell_type": "code",
   "execution_count": 21,
   "outputs": [
    {
     "data": {
      "text/plain": "      pid  sawa2  line  offwrist  activity  marker  whitelight  redlight  \\\n0  163225      1     1         0       129       0       44.34      4.95   \n1  163225      1     2         0       271       0       71.93      4.34   \n2  163225      1     3         0       171       0       61.29      4.16   \n3  163225      1     4         0       281       0       36.23      1.91   \n4  163225      1     5         0       365       0       18.07      2.76   \n\n   greenlight  bluelight  wake interval  starth  day  dayofweek  validday  \\\n0       3.650       1.29   NaN   ACTIVE       0    1          5         1   \n1       6.850       2.17   NaN   ACTIVE       0    1          5         1   \n2       5.630       2.53   NaN   ACTIVE       0    1          5         1   \n3       3.500       1.26   NaN   ACTIVE       0    1          5         1   \n4       0.419       7.63   1.0   ACTIVE       0    1          5         1   \n\n       time  \n0  15:45:00  \n1  15:45:30  \n2  15:46:00  \n3  15:46:30  \n4  15:47:00  ",
      "text/html": "<div>\n<style scoped>\n    .dataframe tbody tr th:only-of-type {\n        vertical-align: middle;\n    }\n\n    .dataframe tbody tr th {\n        vertical-align: top;\n    }\n\n    .dataframe thead th {\n        text-align: right;\n    }\n</style>\n<table border=\"1\" class=\"dataframe\">\n  <thead>\n    <tr style=\"text-align: right;\">\n      <th></th>\n      <th>pid</th>\n      <th>sawa2</th>\n      <th>line</th>\n      <th>offwrist</th>\n      <th>activity</th>\n      <th>marker</th>\n      <th>whitelight</th>\n      <th>redlight</th>\n      <th>greenlight</th>\n      <th>bluelight</th>\n      <th>wake</th>\n      <th>interval</th>\n      <th>starth</th>\n      <th>day</th>\n      <th>dayofweek</th>\n      <th>validday</th>\n      <th>time</th>\n    </tr>\n  </thead>\n  <tbody>\n    <tr>\n      <th>0</th>\n      <td>163225</td>\n      <td>1</td>\n      <td>1</td>\n      <td>0</td>\n      <td>129</td>\n      <td>0</td>\n      <td>44.34</td>\n      <td>4.95</td>\n      <td>3.650</td>\n      <td>1.29</td>\n      <td>NaN</td>\n      <td>ACTIVE</td>\n      <td>0</td>\n      <td>1</td>\n      <td>5</td>\n      <td>1</td>\n      <td>15:45:00</td>\n    </tr>\n    <tr>\n      <th>1</th>\n      <td>163225</td>\n      <td>1</td>\n      <td>2</td>\n      <td>0</td>\n      <td>271</td>\n      <td>0</td>\n      <td>71.93</td>\n      <td>4.34</td>\n      <td>6.850</td>\n      <td>2.17</td>\n      <td>NaN</td>\n      <td>ACTIVE</td>\n      <td>0</td>\n      <td>1</td>\n      <td>5</td>\n      <td>1</td>\n      <td>15:45:30</td>\n    </tr>\n    <tr>\n      <th>2</th>\n      <td>163225</td>\n      <td>1</td>\n      <td>3</td>\n      <td>0</td>\n      <td>171</td>\n      <td>0</td>\n      <td>61.29</td>\n      <td>4.16</td>\n      <td>5.630</td>\n      <td>2.53</td>\n      <td>NaN</td>\n      <td>ACTIVE</td>\n      <td>0</td>\n      <td>1</td>\n      <td>5</td>\n      <td>1</td>\n      <td>15:46:00</td>\n    </tr>\n    <tr>\n      <th>3</th>\n      <td>163225</td>\n      <td>1</td>\n      <td>4</td>\n      <td>0</td>\n      <td>281</td>\n      <td>0</td>\n      <td>36.23</td>\n      <td>1.91</td>\n      <td>3.500</td>\n      <td>1.26</td>\n      <td>NaN</td>\n      <td>ACTIVE</td>\n      <td>0</td>\n      <td>1</td>\n      <td>5</td>\n      <td>1</td>\n      <td>15:46:30</td>\n    </tr>\n    <tr>\n      <th>4</th>\n      <td>163225</td>\n      <td>1</td>\n      <td>5</td>\n      <td>0</td>\n      <td>365</td>\n      <td>0</td>\n      <td>18.07</td>\n      <td>2.76</td>\n      <td>0.419</td>\n      <td>7.63</td>\n      <td>1.0</td>\n      <td>ACTIVE</td>\n      <td>0</td>\n      <td>1</td>\n      <td>5</td>\n      <td>1</td>\n      <td>15:47:00</td>\n    </tr>\n  </tbody>\n</table>\n</div>"
     },
     "execution_count": 21,
     "metadata": {},
     "output_type": "execute_result"
    }
   ],
   "source": [
    "df.head()"
   ],
   "metadata": {
    "collapsed": false,
    "pycharm": {
     "name": "#%%\n"
    }
   }
  },
  {
   "cell_type": "code",
   "execution_count": 22,
   "outputs": [
    {
     "data": {
      "text/plain": "array([0])"
     },
     "execution_count": 22,
     "metadata": {},
     "output_type": "execute_result"
    }
   ],
   "source": [
    "df.offwrist.unique()"
   ],
   "metadata": {
    "collapsed": false,
    "pycharm": {
     "name": "#%%\n"
    }
   }
  },
  {
   "cell_type": "code",
   "execution_count": 23,
   "outputs": [
    {
     "name": "stdout",
     "output_type": "stream",
     "text": [
      "[0.0, 138812.6]\n",
      "[0.0, 5900.0]\n",
      "[0.0, 13700.0]\n",
      "[0.0, 6290.0]\n"
     ]
    }
   ],
   "source": [
    "print([df.whitelight.min(), df.whitelight.max()])\n",
    "print([df.redlight.min(), df.redlight.max()])\n",
    "print([df.greenlight.min(), df.greenlight.max()])\n",
    "print([df.bluelight.min(), df.bluelight.max()])\n",
    "\n",
    "\n"
   ],
   "metadata": {
    "collapsed": false,
    "pycharm": {
     "name": "#%%\n"
    }
   }
  },
  {
   "cell_type": "code",
   "execution_count": 26,
   "outputs": [
    {
     "data": {
      "text/plain": "         pid  sawa2  line  offwrist  activity  marker  whitelight  redlight  \\\n2460  163225      1  2461         0       159       0         0.0       0.0   \n9024  163225      1  9025         0       331       0         0.0       0.0   \n9037  163225      1  9038         0       300       0         0.0       0.0   \n9061  163225      1  9062         0       341       0         0.0       0.0   \n9068  163225      1  9069         0       341       0         0.0       0.0   \n\n      greenlight  bluelight  wake interval  starth  day  dayofweek  validday  \\\n2460         0.0        0.0   1.0   ACTIVE       0    2          6         1   \n9024         0.0        0.0   1.0   ACTIVE       0    4          1         1   \n9037         0.0        0.0   1.0   ACTIVE       0    4          1         1   \n9061         0.0        0.0   1.0   ACTIVE       0    4          1         1   \n9068         0.0        0.0   1.0   ACTIVE       0    4          1         1   \n\n          time  \n2460  12:15:00  \n9024  18:57:00  \n9037  19:03:30  \n9061  19:15:30  \n9068  19:19:00  ",
      "text/html": "<div>\n<style scoped>\n    .dataframe tbody tr th:only-of-type {\n        vertical-align: middle;\n    }\n\n    .dataframe tbody tr th {\n        vertical-align: top;\n    }\n\n    .dataframe thead th {\n        text-align: right;\n    }\n</style>\n<table border=\"1\" class=\"dataframe\">\n  <thead>\n    <tr style=\"text-align: right;\">\n      <th></th>\n      <th>pid</th>\n      <th>sawa2</th>\n      <th>line</th>\n      <th>offwrist</th>\n      <th>activity</th>\n      <th>marker</th>\n      <th>whitelight</th>\n      <th>redlight</th>\n      <th>greenlight</th>\n      <th>bluelight</th>\n      <th>wake</th>\n      <th>interval</th>\n      <th>starth</th>\n      <th>day</th>\n      <th>dayofweek</th>\n      <th>validday</th>\n      <th>time</th>\n    </tr>\n  </thead>\n  <tbody>\n    <tr>\n      <th>2460</th>\n      <td>163225</td>\n      <td>1</td>\n      <td>2461</td>\n      <td>0</td>\n      <td>159</td>\n      <td>0</td>\n      <td>0.0</td>\n      <td>0.0</td>\n      <td>0.0</td>\n      <td>0.0</td>\n      <td>1.0</td>\n      <td>ACTIVE</td>\n      <td>0</td>\n      <td>2</td>\n      <td>6</td>\n      <td>1</td>\n      <td>12:15:00</td>\n    </tr>\n    <tr>\n      <th>9024</th>\n      <td>163225</td>\n      <td>1</td>\n      <td>9025</td>\n      <td>0</td>\n      <td>331</td>\n      <td>0</td>\n      <td>0.0</td>\n      <td>0.0</td>\n      <td>0.0</td>\n      <td>0.0</td>\n      <td>1.0</td>\n      <td>ACTIVE</td>\n      <td>0</td>\n      <td>4</td>\n      <td>1</td>\n      <td>1</td>\n      <td>18:57:00</td>\n    </tr>\n    <tr>\n      <th>9037</th>\n      <td>163225</td>\n      <td>1</td>\n      <td>9038</td>\n      <td>0</td>\n      <td>300</td>\n      <td>0</td>\n      <td>0.0</td>\n      <td>0.0</td>\n      <td>0.0</td>\n      <td>0.0</td>\n      <td>1.0</td>\n      <td>ACTIVE</td>\n      <td>0</td>\n      <td>4</td>\n      <td>1</td>\n      <td>1</td>\n      <td>19:03:30</td>\n    </tr>\n    <tr>\n      <th>9061</th>\n      <td>163225</td>\n      <td>1</td>\n      <td>9062</td>\n      <td>0</td>\n      <td>341</td>\n      <td>0</td>\n      <td>0.0</td>\n      <td>0.0</td>\n      <td>0.0</td>\n      <td>0.0</td>\n      <td>1.0</td>\n      <td>ACTIVE</td>\n      <td>0</td>\n      <td>4</td>\n      <td>1</td>\n      <td>1</td>\n      <td>19:15:30</td>\n    </tr>\n    <tr>\n      <th>9068</th>\n      <td>163225</td>\n      <td>1</td>\n      <td>9069</td>\n      <td>0</td>\n      <td>341</td>\n      <td>0</td>\n      <td>0.0</td>\n      <td>0.0</td>\n      <td>0.0</td>\n      <td>0.0</td>\n      <td>1.0</td>\n      <td>ACTIVE</td>\n      <td>0</td>\n      <td>4</td>\n      <td>1</td>\n      <td>1</td>\n      <td>19:19:00</td>\n    </tr>\n  </tbody>\n</table>\n</div>"
     },
     "execution_count": 26,
     "metadata": {},
     "output_type": "execute_result"
    }
   ],
   "source": [
    "df[df.whitelight == 0].head()"
   ],
   "metadata": {
    "collapsed": false,
    "pycharm": {
     "name": "#%%\n"
    }
   }
  },
  {
   "cell_type": "code",
   "execution_count": 50,
   "outputs": [
    {
     "data": {
      "text/plain": "          pid  sawa2   line  offwrist  activity  marker  whitelight  redlight  \\\n990    163225      1    991         0         4       0        1.05    0.0386   \n991    163225      1    992         0         1       0        0.69    0.0256   \n992    163225      1    993         0       271       0        0.68    0.0170   \n993    163225      1    994         0       353       0        0.51    0.0128   \n994    163225      1    995         0         0       0        0.51    0.0128   \n...       ...    ...    ...       ...       ...     ...         ...       ...   \n21145  163225      1  21146         0        11       0        0.69    0.0256   \n21146  163225      1  21147         0         0       0        0.51    0.0128   \n21147  163225      1  21148         0         0       0        0.51    0.0128   \n21148  163225      1  21149         0         0       0        0.51    0.0128   \n21149  163225      1  21150         0         0       0        0.51    0.0128   \n\n       greenlight  bluelight  wake interval  starth  day  dayofweek  validday  \\\n990        0.1050     0.0412   1.0   ACTIVE       0    1          6         1   \n991        0.0694     0.0235   1.0   ACTIVE       0    1          6         1   \n992        0.0694     0.0347   1.0   ACTIVE       0    1          6         1   \n993        0.0523     0.0173   1.0   ACTIVE       0    1          6         1   \n994        0.0523     0.0173   1.0   ACTIVE       0    1          6         1   \n...           ...        ...   ...      ...     ...  ...        ...       ...   \n21145      0.0694     0.0235   0.0   REST-S       0    8          5         1   \n21146      0.0523     0.0173   0.0   REST-S       0    8          5         1   \n21147      0.0523     0.0173   0.0   REST-S       0    8          5         1   \n21148      0.0523     0.0173   0.0   REST-S       0    8          5         1   \n21149      0.0523     0.0173   0.0   REST-S       0    8          5         1   \n\n           time  \n990    00:00:00  \n991    00:00:30  \n992    00:01:00  \n993    00:01:30  \n994    00:02:00  \n...         ...  \n21145  23:57:30  \n21146  23:58:00  \n21147  23:58:30  \n21148  23:59:00  \n21149  23:59:30  \n\n[22308 rows x 17 columns]",
      "text/html": "<div>\n<style scoped>\n    .dataframe tbody tr th:only-of-type {\n        vertical-align: middle;\n    }\n\n    .dataframe tbody tr th {\n        vertical-align: top;\n    }\n\n    .dataframe thead th {\n        text-align: right;\n    }\n</style>\n<table border=\"1\" class=\"dataframe\">\n  <thead>\n    <tr style=\"text-align: right;\">\n      <th></th>\n      <th>pid</th>\n      <th>sawa2</th>\n      <th>line</th>\n      <th>offwrist</th>\n      <th>activity</th>\n      <th>marker</th>\n      <th>whitelight</th>\n      <th>redlight</th>\n      <th>greenlight</th>\n      <th>bluelight</th>\n      <th>wake</th>\n      <th>interval</th>\n      <th>starth</th>\n      <th>day</th>\n      <th>dayofweek</th>\n      <th>validday</th>\n      <th>time</th>\n    </tr>\n  </thead>\n  <tbody>\n    <tr>\n      <th>990</th>\n      <td>163225</td>\n      <td>1</td>\n      <td>991</td>\n      <td>0</td>\n      <td>4</td>\n      <td>0</td>\n      <td>1.05</td>\n      <td>0.0386</td>\n      <td>0.1050</td>\n      <td>0.0412</td>\n      <td>1.0</td>\n      <td>ACTIVE</td>\n      <td>0</td>\n      <td>1</td>\n      <td>6</td>\n      <td>1</td>\n      <td>00:00:00</td>\n    </tr>\n    <tr>\n      <th>991</th>\n      <td>163225</td>\n      <td>1</td>\n      <td>992</td>\n      <td>0</td>\n      <td>1</td>\n      <td>0</td>\n      <td>0.69</td>\n      <td>0.0256</td>\n      <td>0.0694</td>\n      <td>0.0235</td>\n      <td>1.0</td>\n      <td>ACTIVE</td>\n      <td>0</td>\n      <td>1</td>\n      <td>6</td>\n      <td>1</td>\n      <td>00:00:30</td>\n    </tr>\n    <tr>\n      <th>992</th>\n      <td>163225</td>\n      <td>1</td>\n      <td>993</td>\n      <td>0</td>\n      <td>271</td>\n      <td>0</td>\n      <td>0.68</td>\n      <td>0.0170</td>\n      <td>0.0694</td>\n      <td>0.0347</td>\n      <td>1.0</td>\n      <td>ACTIVE</td>\n      <td>0</td>\n      <td>1</td>\n      <td>6</td>\n      <td>1</td>\n      <td>00:01:00</td>\n    </tr>\n    <tr>\n      <th>993</th>\n      <td>163225</td>\n      <td>1</td>\n      <td>994</td>\n      <td>0</td>\n      <td>353</td>\n      <td>0</td>\n      <td>0.51</td>\n      <td>0.0128</td>\n      <td>0.0523</td>\n      <td>0.0173</td>\n      <td>1.0</td>\n      <td>ACTIVE</td>\n      <td>0</td>\n      <td>1</td>\n      <td>6</td>\n      <td>1</td>\n      <td>00:01:30</td>\n    </tr>\n    <tr>\n      <th>994</th>\n      <td>163225</td>\n      <td>1</td>\n      <td>995</td>\n      <td>0</td>\n      <td>0</td>\n      <td>0</td>\n      <td>0.51</td>\n      <td>0.0128</td>\n      <td>0.0523</td>\n      <td>0.0173</td>\n      <td>1.0</td>\n      <td>ACTIVE</td>\n      <td>0</td>\n      <td>1</td>\n      <td>6</td>\n      <td>1</td>\n      <td>00:02:00</td>\n    </tr>\n    <tr>\n      <th>...</th>\n      <td>...</td>\n      <td>...</td>\n      <td>...</td>\n      <td>...</td>\n      <td>...</td>\n      <td>...</td>\n      <td>...</td>\n      <td>...</td>\n      <td>...</td>\n      <td>...</td>\n      <td>...</td>\n      <td>...</td>\n      <td>...</td>\n      <td>...</td>\n      <td>...</td>\n      <td>...</td>\n      <td>...</td>\n    </tr>\n    <tr>\n      <th>21145</th>\n      <td>163225</td>\n      <td>1</td>\n      <td>21146</td>\n      <td>0</td>\n      <td>11</td>\n      <td>0</td>\n      <td>0.69</td>\n      <td>0.0256</td>\n      <td>0.0694</td>\n      <td>0.0235</td>\n      <td>0.0</td>\n      <td>REST-S</td>\n      <td>0</td>\n      <td>8</td>\n      <td>5</td>\n      <td>1</td>\n      <td>23:57:30</td>\n    </tr>\n    <tr>\n      <th>21146</th>\n      <td>163225</td>\n      <td>1</td>\n      <td>21147</td>\n      <td>0</td>\n      <td>0</td>\n      <td>0</td>\n      <td>0.51</td>\n      <td>0.0128</td>\n      <td>0.0523</td>\n      <td>0.0173</td>\n      <td>0.0</td>\n      <td>REST-S</td>\n      <td>0</td>\n      <td>8</td>\n      <td>5</td>\n      <td>1</td>\n      <td>23:58:00</td>\n    </tr>\n    <tr>\n      <th>21147</th>\n      <td>163225</td>\n      <td>1</td>\n      <td>21148</td>\n      <td>0</td>\n      <td>0</td>\n      <td>0</td>\n      <td>0.51</td>\n      <td>0.0128</td>\n      <td>0.0523</td>\n      <td>0.0173</td>\n      <td>0.0</td>\n      <td>REST-S</td>\n      <td>0</td>\n      <td>8</td>\n      <td>5</td>\n      <td>1</td>\n      <td>23:58:30</td>\n    </tr>\n    <tr>\n      <th>21148</th>\n      <td>163225</td>\n      <td>1</td>\n      <td>21149</td>\n      <td>0</td>\n      <td>0</td>\n      <td>0</td>\n      <td>0.51</td>\n      <td>0.0128</td>\n      <td>0.0523</td>\n      <td>0.0173</td>\n      <td>0.0</td>\n      <td>REST-S</td>\n      <td>0</td>\n      <td>8</td>\n      <td>5</td>\n      <td>1</td>\n      <td>23:59:00</td>\n    </tr>\n    <tr>\n      <th>21149</th>\n      <td>163225</td>\n      <td>1</td>\n      <td>21150</td>\n      <td>0</td>\n      <td>0</td>\n      <td>0</td>\n      <td>0.51</td>\n      <td>0.0128</td>\n      <td>0.0523</td>\n      <td>0.0173</td>\n      <td>0.0</td>\n      <td>REST-S</td>\n      <td>0</td>\n      <td>8</td>\n      <td>5</td>\n      <td>1</td>\n      <td>23:59:30</td>\n    </tr>\n  </tbody>\n</table>\n<p>22308 rows × 17 columns</p>\n</div>"
     },
     "execution_count": 50,
     "metadata": {},
     "output_type": "execute_result"
    }
   ],
   "source": [
    "df = df[df.validday == 1]\n",
    "df.time = pd.to_datetime(df['time'],format= '%H:%M:%S' ).dt.time\n",
    "df = df.sort_values(by=['day', 'time'])"
   ],
   "metadata": {
    "collapsed": false,
    "pycharm": {
     "name": "#%%\n"
    }
   }
  },
  {
   "cell_type": "code",
   "execution_count": 48,
   "outputs": [],
   "source": [
    "valid_light = df[df.whitelight!=0]"
   ],
   "metadata": {
    "collapsed": false,
    "pycharm": {
     "name": "#%%\n"
    }
   }
  },
  {
   "cell_type": "code",
   "execution_count": 67,
   "outputs": [
    {
     "data": {
      "text/plain": "<AxesSubplot:xlabel='time'>"
     },
     "execution_count": 67,
     "metadata": {},
     "output_type": "execute_result"
    },
    {
     "data": {
      "text/plain": "<Figure size 432x288 with 1 Axes>",
      "image/png": "[encoded data removed]"
     },
     "metadata": {
      "needs_background": "light"
     },
     "output_type": "display_data"
    }
   ],
   "source": [
    "df[df.day==5].sort_values(by = ['time']).plot.line(x='time', y='whitelight')"
   ],
   "metadata": {
    "collapsed": false,
    "pycharm": {
     "name": "#%%\n"
    }
   }
  },
  {
   "cell_type": "code",
   "execution_count": 60,
   "outputs": [
    {
     "data": {
      "text/plain": "         pid  sawa2  line  offwrist  activity  marker  whitelight  redlight  \\\n3870  163225      1  3871         0        43       0        0.19    0.0128   \n3871  163225      1  3872         0         0       0        0.51    0.0128   \n3872  163225      1  3873         0         0       0        0.51    0.0128   \n3873  163225      1  3874         0         0       0        0.06    0.0128   \n3874  163225      1  3875         0         1       0        0.19    0.0128   \n...      ...    ...   ...       ...       ...     ...         ...       ...   \n3965  163225      1  3966         0        47       0        0.06    0.0128   \n3966  163225      1  3967         0         0       0        0.36    0.0128   \n3967  163225      1  3968         0         0       0        0.51    0.0128   \n3968  163225      1  3969         0         0       0        0.51    0.0128   \n3969  163225      1  3970         0         0       0        0.51    0.0128   \n\n      greenlight  bluelight  wake interval  starth  day  dayofweek  validday  \\\n3870      0.0173     0.0059   1.0   REST-S       0    2          7         1   \n3871      0.0523     0.0173   0.0   REST-S       0    2          7         1   \n3872      0.0523     0.0173   0.0   REST-S       0    2          7         1   \n3873      0.0012     0.0215   1.0   REST-S       0    2          7         1   \n3874      0.0173     0.0059   1.0   REST-S       0    2          7         1   \n...          ...        ...   ...      ...     ...  ...        ...       ...   \n3965      0.0012     0.0215   1.0   REST-S       0    2          7         1   \n3966      0.0378     0.0023   0.0   REST-S       0    2          7         1   \n3967      0.0523     0.0173   0.0   REST-S       0    2          7         1   \n3968      0.0523     0.0173   0.0   REST-S       0    2          7         1   \n3969      0.0523     0.0173   0.0   REST-S       0    2          7         1   \n\n          time  \n3870  00:00:00  \n3871  00:00:30  \n3872  00:01:00  \n3873  00:01:30  \n3874  00:02:00  \n...        ...  \n3965  00:47:30  \n3966  00:48:00  \n3967  00:48:30  \n3968  00:49:00  \n3969  00:49:30  \n\n[100 rows x 17 columns]",
      "text/html": "<div>\n<style scoped>\n    .dataframe tbody tr th:only-of-type {\n        vertical-align: middle;\n    }\n\n    .dataframe tbody tr th {\n        vertical-align: top;\n    }\n\n    .dataframe thead th {\n        text-align: right;\n    }\n</style>\n<table border=\"1\" class=\"dataframe\">\n  <thead>\n    <tr style=\"text-align: right;\">\n      <th></th>\n      <th>pid</th>\n      <th>sawa2</th>\n      <th>line</th>\n      <th>offwrist</th>\n      <th>activity</th>\n      <th>marker</th>\n      <th>whitelight</th>\n      <th>redlight</th>\n      <th>greenlight</th>\n      <th>bluelight</th>\n      <th>wake</th>\n      <th>interval</th>\n      <th>starth</th>\n      <th>day</th>\n      <th>dayofweek</th>\n      <th>validday</th>\n      <th>time</th>\n    </tr>\n  </thead>\n  <tbody>\n    <tr>\n      <th>3870</th>\n      <td>163225</td>\n      <td>1</td>\n      <td>3871</td>\n      <td>0</td>\n      <td>43</td>\n      <td>0</td>\n      <td>0.19</td>\n      <td>0.0128</td>\n      <td>0.0173</td>\n      <td>0.0059</td>\n      <td>1.0</td>\n      <td>REST-S</td>\n      <td>0</td>\n      <td>2</td>\n      <td>7</td>\n      <td>1</td>\n      <td>00:00:00</td>\n    </tr>\n    <tr>\n      <th>3871</th>\n      <td>163225</td>\n      <td>1</td>\n      <td>3872</td>\n      <td>0</td>\n      <td>0</td>\n      <td>0</td>\n      <td>0.51</td>\n      <td>0.0128</td>\n      <td>0.0523</td>\n      <td>0.0173</td>\n      <td>0.0</td>\n      <td>REST-S</td>\n      <td>0</td>\n      <td>2</td>\n      <td>7</td>\n      <td>1</td>\n      <td>00:00:30</td>\n    </tr>\n    <tr>\n      <th>3872</th>\n      <td>163225</td>\n      <td>1</td>\n      <td>3873</td>\n      <td>0</td>\n      <td>0</td>\n      <td>0</td>\n      <td>0.51</td>\n      <td>0.0128</td>\n      <td>0.0523</td>\n      <td>0.0173</td>\n      <td>0.0</td>\n      <td>REST-S</td>\n      <td>0</td>\n      <td>2</td>\n      <td>7</td>\n      <td>1</td>\n      <td>00:01:00</td>\n    </tr>\n    <tr>\n      <th>3873</th>\n      <td>163225</td>\n      <td>1</td>\n      <td>3874</td>\n      <td>0</td>\n      <td>0</td>\n      <td>0</td>\n      <td>0.06</td>\n      <td>0.0128</td>\n      <td>0.0012</td>\n      <td>0.0215</td>\n      <td>1.0</td>\n      <td>REST-S</td>\n      <td>0</td>\n      <td>2</td>\n      <td>7</td>\n      <td>1</td>\n      <td>00:01:30</td>\n    </tr>\n    <tr>\n      <th>3874</th>\n      <td>163225</td>\n      <td>1</td>\n      <td>3875</td>\n      <td>0</td>\n      <td>1</td>\n      <td>0</td>\n      <td>0.19</td>\n      <td>0.0128</td>\n      <td>0.0173</td>\n      <td>0.0059</td>\n      <td>1.0</td>\n      <td>REST-S</td>\n      <td>0</td>\n      <td>2</td>\n      <td>7</td>\n      <td>1</td>\n      <td>00:02:00</td>\n    </tr>\n    <tr>\n      <th>...</th>\n      <td>...</td>\n      <td>...</td>\n      <td>...</td>\n      <td>...</td>\n      <td>...</td>\n      <td>...</td>\n      <td>...</td>\n      <td>...</td>\n      <td>...</td>\n      <td>...</td>\n      <td>...</td>\n      <td>...</td>\n      <td>...</td>\n      <td>...</td>\n      <td>...</td>\n      <td>...</td>\n      <td>...</td>\n    </tr>\n    <tr>\n      <th>3965</th>\n      <td>163225</td>\n      <td>1</td>\n      <td>3966</td>\n      <td>0</td>\n      <td>47</td>\n      <td>0</td>\n      <td>0.06</td>\n      <td>0.0128</td>\n      <td>0.0012</td>\n      <td>0.0215</td>\n      <td>1.0</td>\n      <td>REST-S</td>\n      <td>0</td>\n      <td>2</td>\n      <td>7</td>\n      <td>1</td>\n      <td>00:47:30</td>\n    </tr>\n    <tr>\n      <th>3966</th>\n      <td>163225</td>\n      <td>1</td>\n      <td>3967</td>\n      <td>0</td>\n      <td>0</td>\n      <td>0</td>\n      <td>0.36</td>\n      <td>0.0128</td>\n      <td>0.0378</td>\n      <td>0.0023</td>\n      <td>0.0</td>\n      <td>REST-S</td>\n      <td>0</td>\n      <td>2</td>\n      <td>7</td>\n      <td>1</td>\n      <td>00:48:00</td>\n    </tr>\n    <tr>\n      <th>3967</th>\n      <td>163225</td>\n      <td>1</td>\n      <td>3968</td>\n      <td>0</td>\n      <td>0</td>\n      <td>0</td>\n      <td>0.51</td>\n      <td>0.0128</td>\n      <td>0.0523</td>\n      <td>0.0173</td>\n      <td>0.0</td>\n      <td>REST-S</td>\n      <td>0</td>\n      <td>2</td>\n      <td>7</td>\n      <td>1</td>\n      <td>00:48:30</td>\n    </tr>\n    <tr>\n      <th>3968</th>\n      <td>163225</td>\n      <td>1</td>\n      <td>3969</td>\n      <td>0</td>\n      <td>0</td>\n      <td>0</td>\n      <td>0.51</td>\n      <td>0.0128</td>\n      <td>0.0523</td>\n      <td>0.0173</td>\n      <td>0.0</td>\n      <td>REST-S</td>\n      <td>0</td>\n      <td>2</td>\n      <td>7</td>\n      <td>1</td>\n      <td>00:49:00</td>\n    </tr>\n    <tr>\n      <th>3969</th>\n      <td>163225</td>\n      <td>1</td>\n      <td>3970</td>\n      <td>0</td>\n      <td>0</td>\n      <td>0</td>\n      <td>0.51</td>\n      <td>0.0128</td>\n      <td>0.0523</td>\n      <td>0.0173</td>\n      <td>0.0</td>\n      <td>REST-S</td>\n      <td>0</td>\n      <td>2</td>\n      <td>7</td>\n      <td>1</td>\n      <td>00:49:30</td>\n    </tr>\n  </tbody>\n</table>\n<p>100 rows × 17 columns</p>\n</div>"
     },
     "execution_count": 60,
     "metadata": {},
     "output_type": "execute_result"
    }
   ],
   "source": [
    "df[df.day==2].sort_values(by = ['time']).head()"
   ],
   "metadata": {
    "collapsed": false,
    "pycharm": {
     "name": "#%%\n"
    }
   }
  },
  {
   "cell_type": "code",
   "execution_count": null,
   "outputs": [],
   "source": [],
   "metadata": {
    "collapsed": false,
    "pycharm": {
     "name": "#%%\n"
    }
   }
  }
 ],
 "metadata": {
  "kernelspec": {
   "display_name": "Python 3",
   "language": "python",
   "name": "python3"
  },
  "language_info": {
   "codemirror_mode": {
    "name": "ipython",
    "version": 2
   },
   "file_extension": ".py",
   "mimetype": "text/x-python",
   "name": "python",
   "nbconvert_exporter": "python",
   "pygments_lexer": "ipython2",
   "version": "2.7.6"
  }
 },
 "nbformat": 4,
 "nbformat_minor": 0
}