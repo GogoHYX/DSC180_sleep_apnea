{
 "cells": [
  {
   "cell_type": "code",
   "execution_count": 1,
   "metadata": {},
   "outputs": [],
   "source": [
    "from sklearn.metrics import recall_score\n",
    "import pandas as pd\n",
    "import numpy as np\n",
    "import seaborn as sns\n",
    "import os\n",
    "import pickle\n",
    "from collections import Counter\n",
    "from tqdm import tqdm\n",
    "from scipy.stats import ks_2samp\n",
    "import matplotlib.pyplot as plt\n",
    "from sktime.classification.kernel_based import RocketClassifier"
   ]
  },
  {
   "cell_type": "code",
   "execution_count": 4,
   "metadata": {},
   "outputs": [],
   "source": [
    "files_dir = '../../teams/DSC180B_WI22_A00/b11group2/actigraphy/'\n",
    "all_files = os.listdir(files_dir)\n",
    "# Might need to change these numbers \n",
    "N_train = 1500\n",
    "# Reading all the files\n",
    "train_data = [pd.read_csv(files_dir+i) for i in all_files[:N_train]]\n",
    "test_data = [pd.read_csv(files_dir+i) for i in all_files[N_train:]]"
   ]
  },
  {
   "cell_type": "code",
   "execution_count": 5,
   "metadata": {},
   "outputs": [],
   "source": [
    "def data_preproc(raw_df):\n",
    "    '''Takes in the raw df and outputs df ready to put into the classifier'''\n",
    "    \n",
    "    df = raw_df.drop(['pid', 'sawa2'], axis = 1)\n",
    "\n",
    "    df = df.loc[df.interval != 'EXCLUD'].reset_index(drop = True)\n",
    "\n",
    "    df['interval_num'] = df.interval.replace({'ACTIVE': 3, 'REST': 1, 'REST-S': 0}) # so the differences are unique\n",
    "\n",
    "    epochs_in_each_interval = (df.loc[df.interval_num.diff() != 0, :] # epochs where state changed\n",
    "                               .line\n",
    "                               .diff()) # number of epochs in each state, starting from active\n",
    "\n",
    "    # interval_epochs eventually contains 1) indicies where state changes, 2) what interval starts at that epoch,  \n",
    "    # 3) num of epochs in the state before it and 4) the num of epochs in that state itself\n",
    "    interval_epochs = (df.iloc[epochs_in_each_interval.index,:].interval_num.to_frame()\n",
    "                       .join(epochs_in_each_interval).reset_index())\n",
    "    interval_epochs.columns = ['index', 'interval_num', 'num_epochs_before_interval']\n",
    "    interval_epochs['num_epochs_in_interval'] = interval_epochs.num_epochs_before_interval[1:].reset_index(drop=True)\n",
    "\n",
    "    # indicies where active (3) starts or sleeping (0) starts\n",
    "    active_sleep_idx = list(interval_epochs.loc[(interval_epochs.interval_num == 0) | \n",
    "                                                (interval_epochs.interval_num == 3)]['index'])\n",
    "\n",
    "    # indicies where active starts\n",
    "    active_idx = interval_epochs.loc[interval_epochs.interval_num == 3].index\n",
    "\n",
    "    sleep_eff = [] # will contain sleep efficiency for the different times that subject sleeps\n",
    "    num_epochs_in_interval = interval_epochs.num_epochs_in_interval\n",
    "\n",
    "    for i in range(len(interval_epochs)):\n",
    "        if interval_epochs.iloc[i, 1] == 0:\n",
    "            if interval_epochs.iloc[i-1, 1] == 1:\n",
    "                sleep_eff.append(interval_epochs.iloc[i, 3]/(interval_epochs.iloc[i-1, 3]+interval_epochs.iloc[i, 3]))\n",
    "            else:\n",
    "                sleep_eff.append(1)\n",
    "                \n",
    "    # indicies where light exposure occurs before the subject sleeps (active + rest)\n",
    "    awake_light_idx = []\n",
    "    for i in range(interval_epochs.shape[0]):\n",
    "        if interval_epochs.iloc[i, 1] == 0:\n",
    "            if interval_epochs.iloc[i-1, 1] == 1:\n",
    "                awake_light_idx.append(tuple((interval_epochs.iloc[i-2, 0], interval_epochs.iloc[i, 0])))\n",
    "            else:\n",
    "                awake_light_idx.append(tuple((interval_epochs.iloc[i-1, 0], interval_epochs.iloc[i, 0])))\n",
    "\n",
    "                # series with series of light (this is the format that sktime dfs take)\n",
    "    awake_whitelight_series = pd.Series([df.whitelight.iloc[x:y].fillna(0).iloc[-240:].reset_index(drop=True) \n",
    "                                         for x,y in awake_light_idx]) # light for last 2 hours before sleep only\n",
    "    awake_bluelight_series = pd.Series([df.bluelight.iloc[x:y].fillna(0).iloc[-240:].reset_index(drop=True) \n",
    "                                        for x,y in awake_light_idx])\n",
    "    awake_greenlight_series = pd.Series([df.greenlight.iloc[x:y].fillna(0).iloc[-240:].reset_index(drop=True) \n",
    "                                         for x,y in awake_light_idx])\n",
    "    awake_redlight_series = pd.Series([df.redlight.iloc[x:y].fillna(0).iloc[-240:].reset_index(drop=True) \n",
    "                                       for x,y in awake_light_idx])\n",
    "\n",
    "    # each entry in column dim_xxxx is a series of light\n",
    "    final_df = pd.DataFrame({\"dim_white\": awake_whitelight_series.values, \n",
    "                             \"dim_blue\": awake_bluelight_series.values,\n",
    "                             \"dim_green\": awake_greenlight_series.values,\n",
    "                             \"dim_red\": awake_redlight_series.values,\n",
    "                             \"sleep_eff\": sleep_eff})\n",
    "\n",
    "    # threshold chosen using idea that good sleep efficiency is when one sleeps in ~24 mins\n",
    "    # for a sleep of 8 hrs (ratio -- 24mins/8hrs = 3mins/1hr)\n",
    "    final_df[\"sleep_eff_cat\"] = (final_df.sleep_eff >= 0.95).replace({True: \"Good\", False: \"Bad\"})\n",
    "\n",
    "    return final_df"
   ]
  },
  {
   "cell_type": "code",
   "execution_count": 6,
   "metadata": {},
   "outputs": [],
   "source": [
    "def concat_proc_data(raw_data_lst):\n",
    "    '''Takes in list of raw dfs, preproccesses them and concats them.'''\n",
    "    concat_df = pd.DataFrame(columns = [\"dim_white\",\"dim_blue\",\"dim_green\",\"dim_red\",\"sleep_eff\",\"sleep_eff_cat\"])\n",
    "    for df in raw_data_lst:\n",
    "        proc_data = data_preproc(df)\n",
    "        concat_df = pd.concat([concat_df, proc_data])\n",
    "    concat_df = concat_df.reset_index(drop = True)\n",
    "    concat_df = concat_df.loc[concat_df.dim_white.apply(lambda x: len(x)) >= 240].reset_index(drop = True)\n",
    "    return concat_df"
   ]
  },
  {
   "cell_type": "code",
   "execution_count": 7,
   "metadata": {},
   "outputs": [],
   "source": [
    "def concat_proc_data_act(raw_data_lst):\n",
    "    '''Takes in list of raw dfs, preproccesses them and concats them.'''\n",
    "    mean_act = pd.Series([df.activity.mean() for df in raw_data_lst])\n",
    "    MEDIAN_ACTIVITY = mean_act.median()\n",
    "    \n",
    "    concat_df_act_less = pd.DataFrame(columns = [\"dim_white\",\"dim_blue\",\"dim_green\",\"dim_red\",\"sleep_eff\",\"sleep_eff_cat\"])\n",
    "    concat_df_act_more = pd.DataFrame(columns = [\"dim_white\",\"dim_blue\",\"dim_green\",\"dim_red\",\"sleep_eff\",\"sleep_eff_cat\"])\n",
    "    \n",
    "    for df in raw_data_lst:\n",
    "        proc_data = data_preproc(df)\n",
    "        if df.activity.mean() <= MEDIAN_ACTIVITY:\n",
    "            concat_df_act_less = pd.concat([concat_df_act_less, proc_data])\n",
    "        else:\n",
    "            concat_df_act_more = pd.concat([concat_df_act_more, proc_data])\n",
    "            \n",
    "    concat_df_act_less = concat_df_act_less.reset_index(drop = True)\n",
    "    concat_df_act_more = concat_df_act_more.reset_index(drop = True)\n",
    "    \n",
    "    concat_df_act_less = concat_df_act_less.loc[concat_df_act_less.dim_white.apply(lambda x: len(x)) >= 240].reset_index(drop = True)\n",
    "    concat_df_act_more = concat_df_act_more.loc[concat_df_act_more.dim_white.apply(lambda x: len(x)) >= 240].reset_index(drop = True)\n",
    "    \n",
    "    return concat_df_act_less, concat_df_act_more"
   ]
  },
  {
   "cell_type": "code",
   "execution_count": 8,
   "metadata": {},
   "outputs": [],
   "source": [
    "def concat_proc_data_sleep(raw_data_lst):\n",
    "    '''Takes in list of raw dfs, preproccesses them and concats them.'''\n",
    "    sleep_total = pd.Series([(df.interval == 'REST-S').sum() / 120 for df in train_data])\n",
    "    MEDIAN_SLEEP = sleep_total.median()\n",
    "    \n",
    "    concat_df_act_less = pd.DataFrame(columns = [\"dim_white\",\"dim_blue\",\"dim_green\",\"dim_red\",\"sleep_eff\",\"sleep_eff_cat\"])\n",
    "    concat_df_act_more = pd.DataFrame(columns = [\"dim_white\",\"dim_blue\",\"dim_green\",\"dim_red\",\"sleep_eff\",\"sleep_eff_cat\"])\n",
    "    \n",
    "    for df in raw_data_lst:\n",
    "        proc_data = data_preproc(df)\n",
    "        if (df.interval == 'REST-S').sum() / 120 <= MEDIAN_SLEEP:\n",
    "            concat_df_act_less = pd.concat([concat_df_act_less, proc_data])\n",
    "        else:\n",
    "            concat_df_act_more = pd.concat([concat_df_act_more, proc_data])\n",
    "            \n",
    "    concat_df_act_less = concat_df_act_less.reset_index(drop = True)\n",
    "    concat_df_act_more = concat_df_act_more.reset_index(drop = True)\n",
    "    \n",
    "    concat_df_act_less = concat_df_act_less.loc[concat_df_act_less.dim_white.apply(lambda x: len(x)) >= 240].reset_index(drop = True)\n",
    "    concat_df_act_more = concat_df_act_more.loc[concat_df_act_more.dim_white.apply(lambda x: len(x)) >= 240].reset_index(drop = True)\n",
    "    \n",
    "    return concat_df_act_less, concat_df_act_more"
   ]
  },
  {
   "cell_type": "code",
   "execution_count": 9,
   "metadata": {},
   "outputs": [],
   "source": [
    "def split_X_y(df):\n",
    "    '''Split X features and y outcome.'''\n",
    "    return (df.iloc[:, :4], df.iloc[:, 5])"
   ]
  },
  {
   "cell_type": "code",
   "execution_count": 10,
   "metadata": {},
   "outputs": [],
   "source": [
    "def most_common(lst):\n",
    "#     return max(set(lst), key=lst.count)\n",
    "    data = Counter(lst[::-1])\n",
    "    return max(lst[::-1], key=data.get)"
   ]
  },
  {
   "cell_type": "code",
   "execution_count": 9,
   "metadata": {},
   "outputs": [],
   "source": [
    "train_preproc = concat_proc_data(train_data)\n",
    "test_preproc = concat_proc_data(test_data)"
   ]
  },
  {
   "cell_type": "code",
   "execution_count": 10,
   "metadata": {},
   "outputs": [
    {
     "data": {
      "text/plain": [
       "Good    0.868807\n",
       "Bad     0.131193\n",
       "Name: sleep_eff_cat, dtype: float64"
      ]
     },
     "execution_count": 10,
     "metadata": {},
     "output_type": "execute_result"
    }
   ],
   "source": [
    "test_preproc.sleep_eff_cat.value_counts(normalize = True)"
   ]
  },
  {
   "cell_type": "code",
   "execution_count": 16,
   "metadata": {},
   "outputs": [
    {
     "name": "stderr",
     "output_type": "stream",
     "text": [
      "100%|██████████| 12654/12654 [00:12<00:00, 1012.67it/s]\n"
     ]
    }
   ],
   "source": [
    "corrs_green_blue = []\n",
    "corrs_green_red = []\n",
    "corrs_red_blue = []\n",
    "corrs_white_blue = []\n",
    "corrs_white_red = []\n",
    "corrs_white_green = []\n",
    "for i in tqdm(range(train_preproc.shape[0])):\n",
    "    corrs_green_blue.append(train_preproc.dim_green[i].corr(train_preproc.dim_blue[i]))\n",
    "    corrs_green_red.append(train_preproc.dim_green[i].corr(train_preproc.dim_red[i]))\n",
    "    corrs_red_blue.append(train_preproc.dim_red[i].corr(train_preproc.dim_blue[i]))\n",
    "    corrs_white_blue.append(train_preproc.dim_blue[i].corr(train_preproc.dim_white[i]))\n",
    "    corrs_white_red.append(train_preproc.dim_white[i].corr(train_preproc.dim_red[i]))\n",
    "    corrs_white_green.append(train_preproc.dim_white[i].corr(train_preproc.dim_green[i]))"
   ]
  },
  {
   "cell_type": "code",
   "execution_count": 17,
   "metadata": {},
   "outputs": [
    {
     "name": "stdout",
     "output_type": "stream",
     "text": [
      "0.6269639270970362 0.9962928355070373\n",
      "0.5030370509173947 0.9899357673955437\n",
      "0.2352404791506124 0.979465538289955\n",
      "0.5952986904955827 0.9949872279536573\n",
      "0.6614508103224416 0.9941359621154074\n",
      "0.9512654443068823 0.9998637286994772\n"
     ]
    }
   ],
   "source": [
    "print(pd.Series(corrs_green_blue).dropna().abs().quantile(.025), pd.Series(corrs_green_blue).dropna().abs().quantile(.975))\n",
    "print(pd.Series(corrs_green_red).dropna().abs().quantile(.025), pd.Series(corrs_green_red).dropna().abs().quantile(.975))\n",
    "print(pd.Series(corrs_red_blue).dropna().abs().quantile(.025), pd.Series(corrs_red_blue).dropna().abs().quantile(.975))\n",
    "print(pd.Series(corrs_white_blue).dropna().abs().quantile(.025), pd.Series(corrs_white_blue).dropna().abs().quantile(.975))\n",
    "print(pd.Series(corrs_white_red).dropna().abs().quantile(.025), pd.Series(corrs_white_red).dropna().abs().quantile(.975))\n",
    "print(pd.Series(corrs_white_green).dropna().abs().quantile(.025), pd.Series(corrs_white_green).dropna().abs().quantile(.975))"
   ]
  },
  {
   "cell_type": "code",
   "execution_count": 18,
   "metadata": {},
   "outputs": [
    {
     "name": "stdout",
     "output_type": "stream",
     "text": [
      "0.9366062547938862\n",
      "0.8881894072085672\n",
      "0.734990341243779\n",
      "0.9113660159517373\n",
      "0.9344267827611874\n",
      "0.9950526013580665\n"
     ]
    }
   ],
   "source": [
    "print(pd.Series(corrs_green_blue).dropna().abs().quantile(.5))\n",
    "print(pd.Series(corrs_green_red).dropna().abs().quantile(.5))\n",
    "print(pd.Series(corrs_red_blue).dropna().abs().quantile(.5))\n",
    "print(pd.Series(corrs_white_blue).dropna().abs().quantile(.5))\n",
    "print(pd.Series(corrs_white_red).dropna().abs().quantile(.5))\n",
    "print(pd.Series(corrs_white_green).dropna().abs().quantile(.5))"
   ]
  },
  {
   "cell_type": "code",
   "execution_count": 38,
   "metadata": {},
   "outputs": [],
   "source": [
    "train_good = train_preproc.loc[train_preproc.sleep_eff_cat == 'Good']\n",
    "train_bad = train_preproc.loc[train_preproc.sleep_eff_cat == 'Bad']\n",
    "train_balanced = pd.concat([train_good.sample(train_bad.shape[0]), train_bad]).reset_index(drop = True)"
   ]
  },
  {
   "cell_type": "code",
   "execution_count": 39,
   "metadata": {},
   "outputs": [],
   "source": [
    "train_preproc_X, train_preproc_y = split_X_y(train_balanced)\n",
    "test_preproc_X, test_preproc_y = split_X_y(test_preproc)"
   ]
  },
  {
   "cell_type": "code",
   "execution_count": null,
   "metadata": {},
   "outputs": [],
   "source": [
    "# train_preproc_X#.dim_blue"
   ]
  },
  {
   "cell_type": "code",
   "execution_count": 40,
   "metadata": {},
   "outputs": [],
   "source": [
    "# from sktime.transformations.panel.rocket import Rocket"
   ]
  },
  {
   "cell_type": "code",
   "execution_count": 15,
   "metadata": {},
   "outputs": [
    {
     "data": {
      "text/plain": [
       "0.627039627039627"
      ]
     },
     "execution_count": 15,
     "metadata": {},
     "output_type": "execute_result"
    }
   ],
   "source": [
    "rocket = RocketClassifier()\n",
    "rocket.fit(train_preproc_X.dim_white.to_frame(), train_preproc_y)\n",
    "\n",
    "with open('models/rocket_model_white_only.pkl','wb') as f:\n",
    "    pickle.dump(rocket, f)\n",
    "    \n",
    "y_pred = rocket.predict(test_preproc_X.dim_white.to_frame())\n",
    "recall_score(test_preproc_y, y_pred, pos_label = \"Bad\") "
   ]
  },
  {
   "cell_type": "code",
   "execution_count": 41,
   "metadata": {},
   "outputs": [],
   "source": [
    "# Load different models\n",
    "with open('models/rocket_model.pkl', 'rb') as f:\n",
    "    rocket_overall = pickle.load(f)\n",
    "\n",
    "with open('models/rocket_model_blue_only.pkl', 'rb') as f:\n",
    "    rocket_blue = pickle.load(f)\n",
    "\n",
    "with open('models/rocket_model_red_only.pkl', 'rb') as f:\n",
    "    rocket_red = pickle.load(f)\n",
    "\n",
    "with open('models/rocket_model_green_only.pkl', 'rb') as f:\n",
    "    rocket_green = pickle.load(f)\n",
    "\n",
    "with open('models/rocket_model_white_only.pkl', 'rb') as f:\n",
    "    rocket_white = pickle.load(f)\n",
    "    \n",
    "rocket_models = [rocket_overall, rocket_red, rocket_blue, rocket_green, rocket_white]"
   ]
  },
  {
   "cell_type": "code",
   "execution_count": 28,
   "metadata": {},
   "outputs": [
    {
     "name": "stdout",
     "output_type": "stream",
     "text": [
      "0.6363636363636364 0.5772615276311158\n"
     ]
    }
   ],
   "source": [
    "y_pred = rocket_models[0].predict(test_preproc_X)#.dim_white.to_frame())\n",
    "print(recall_score(test_preproc_y, y_pred, pos_label = \"Bad\"), recall_score(test_preproc_y, y_pred, pos_label = \"Good\"))"
   ]
  },
  {
   "cell_type": "code",
   "execution_count": 29,
   "metadata": {},
   "outputs": [
    {
     "name": "stdout",
     "output_type": "stream",
     "text": [
      "0.6317016317016317 0.5955649419218585\n"
     ]
    }
   ],
   "source": [
    "y_pred = rocket_models[1].predict(test_preproc_X.dim_red.to_frame())\n",
    "print(recall_score(test_preproc_y, y_pred, pos_label = \"Bad\"), recall_score(test_preproc_y, y_pred, pos_label = \"Good\"))"
   ]
  },
  {
   "cell_type": "code",
   "execution_count": 30,
   "metadata": {},
   "outputs": [
    {
     "name": "stdout",
     "output_type": "stream",
     "text": [
      "0.5920745920745921 0.5807814149947201\n"
     ]
    }
   ],
   "source": [
    "y_pred = rocket_models[2].predict(test_preproc_X.dim_blue.to_frame())\n",
    "print(recall_score(test_preproc_y, y_pred, pos_label = \"Bad\"), recall_score(test_preproc_y, y_pred, pos_label = \"Good\"))"
   ]
  },
  {
   "cell_type": "code",
   "execution_count": 31,
   "metadata": {},
   "outputs": [
    {
     "name": "stdout",
     "output_type": "stream",
     "text": [
      "0.6386946386946387 0.6043646603308694\n"
     ]
    }
   ],
   "source": [
    "y_pred = rocket_models[3].predict(test_preproc_X.dim_green.to_frame())\n",
    "print(recall_score(test_preproc_y, y_pred, pos_label = \"Bad\"), recall_score(test_preproc_y, y_pred, pos_label = \"Good\"))"
   ]
  },
  {
   "cell_type": "code",
   "execution_count": 32,
   "metadata": {},
   "outputs": [
    {
     "name": "stdout",
     "output_type": "stream",
     "text": [
      "0.627039627039627 0.6156282998944034\n"
     ]
    }
   ],
   "source": [
    "y_pred = rocket_models[4].predict(test_preproc_X.dim_white.to_frame())\n",
    "print(recall_score(test_preproc_y, y_pred, pos_label = \"Bad\"), recall_score(test_preproc_y, y_pred, pos_label = \"Good\"))"
   ]
  },
  {
   "cell_type": "code",
   "execution_count": 46,
   "metadata": {},
   "outputs": [],
   "source": [
    "original_test_X = test_preproc_X\n",
    "original_test_y = test_preproc_y"
   ]
  },
  {
   "cell_type": "code",
   "execution_count": 44,
   "metadata": {},
   "outputs": [],
   "source": [
    "def model_preds(X):\n",
    "    preds_1 = rocket_models[1].predict(X.dim_red.to_frame())\n",
    "    preds_2 = rocket_models[2].predict(X.dim_blue.to_frame())\n",
    "    preds_3 = rocket_models[3].predict(X.dim_green.to_frame())\n",
    "    preds_4 = rocket_models[4].predict(X.dim_white.to_frame())\n",
    "    pred_df = pd.DataFrame({'red_pred': preds_1, \n",
    "                            'blue_pred': preds_2, \n",
    "                            'green_pred': preds_3, \n",
    "                            'white_pred': preds_4})\n",
    "    model_preds = pred_df.apply(lambda row: most_common(list(row)), axis = 1)\n",
    "    return pred_df"
   ]
  },
  {
   "cell_type": "code",
   "execution_count": 47,
   "metadata": {},
   "outputs": [],
   "source": [
    "model_preds_f = model_preds(original_test_X)"
   ]
  },
  {
   "cell_type": "code",
   "execution_count": 55,
   "metadata": {},
   "outputs": [
    {
     "name": "stderr",
     "output_type": "stream",
     "text": [
      "100%|██████████| 100/100 [40:08<00:00, 24.08s/it]\n"
     ]
    }
   ],
   "source": [
    "red_recalls = []\n",
    "blue_recalls = []\n",
    "green_recalls = []\n",
    "for _ in tqdm(range(100)):\n",
    "    test_preproc_samples = [test_preproc.sample(frac = 0.1, replace = True) for _ in range(3)]\n",
    "    test_preproc_X_y_samples = [split_X_y(df) for df in test_preproc_samples]\n",
    "    preds_red_samp = rocket_models[1].predict(test_preproc_X_y_samples[0][0].dim_red.to_frame())\n",
    "    preds_blue_samp = rocket_models[2].predict(test_preproc_X_y_samples[1][0].dim_blue.to_frame())\n",
    "    preds_green_samp = rocket_models[3].predict(test_preproc_X_y_samples[2][0].dim_green.to_frame())\n",
    "    red_recalls.append(recall_score(test_preproc_X_y_samples[0][1], preds_red_samp, pos_label = 'Bad'))\n",
    "    blue_recalls.append(recall_score(test_preproc_X_y_samples[1][1], preds_blue_samp, pos_label = 'Bad'))\n",
    "    green_recalls.append(recall_score(test_preproc_X_y_samples[2][1], preds_green_samp, pos_label = 'Bad'))"
   ]
  },
  {
   "cell_type": "code",
   "execution_count": 65,
   "metadata": {},
   "outputs": [
    {
     "data": {
      "text/plain": [
       "(array([ 2.,  5.,  4., 12., 17., 13., 22., 13.,  5.,  7.]),\n",
       " array([0.43181818, 0.45974747, 0.48767677, 0.51560606, 0.54353535,\n",
       "        0.57146465, 0.59939394, 0.62732323, 0.65525253, 0.68318182,\n",
       "        0.71111111]),\n",
       " <BarContainer object of 10 artists>)"
      ]
     },
     "execution_count": 65,
     "metadata": {},
     "output_type": "execute_result"
    },
    {
     "data": {
      "image/png": "[encoded data removed]",
      "text/plain": [
       "<Figure size 432x288 with 1 Axes>"
      ]
     },
     "metadata": {
      "needs_background": "light"
     },
     "output_type": "display_data"
    }
   ],
   "source": [
    "plt.hist(pd.Series(red_recalls))\n",
    "plt.hist(pd.Series(blue_recalls))"
   ]
  },
  {
   "cell_type": "code",
   "execution_count": 59,
   "metadata": {},
   "outputs": [
    {
     "data": {
      "text/plain": [
       "KstestResult(statistic=0.26, pvalue=0.002219935934558366)"
      ]
     },
     "execution_count": 59,
     "metadata": {},
     "output_type": "execute_result"
    }
   ],
   "source": [
    "ks_2samp(red_recalls, blue_recalls)"
   ]
  },
  {
   "cell_type": "code",
   "execution_count": 66,
   "metadata": {},
   "outputs": [
    {
     "data": {
      "text/plain": [
       "(array([ 2.,  4., 10., 14., 16., 18., 17.,  8.,  6.,  5.]),\n",
       " array([0.44444444, 0.47954545, 0.51464646, 0.54974747, 0.58484848,\n",
       "        0.61994949, 0.65505051, 0.69015152, 0.72525253, 0.76035354,\n",
       "        0.79545455]),\n",
       " <BarContainer object of 10 artists>)"
      ]
     },
     "execution_count": 66,
     "metadata": {},
     "output_type": "execute_result"
    },
    {
     "data": {
      "image/png": "[encoded data removed]",
      "text/plain": [
       "<Figure size 432x288 with 1 Axes>"
      ]
     },
     "metadata": {
      "needs_background": "light"
     },
     "output_type": "display_data"
    }
   ],
   "source": [
    "plt.hist(pd.Series(red_recalls))\n",
    "plt.hist(pd.Series(green_recalls))"
   ]
  },
  {
   "cell_type": "code",
   "execution_count": 68,
   "metadata": {},
   "outputs": [
    {
     "data": {
      "text/plain": [
       "KstestResult(statistic=0.08, pvalue=0.9084105017744525)"
      ]
     },
     "execution_count": 68,
     "metadata": {},
     "output_type": "execute_result"
    }
   ],
   "source": [
    "ks_2samp(green_recalls, red_recalls)"
   ]
  },
  {
   "cell_type": "code",
   "execution_count": 69,
   "metadata": {},
   "outputs": [
    {
     "data": {
      "text/plain": [
       "(array([ 2.,  4., 10., 14., 16., 18., 17.,  8.,  6.,  5.]),\n",
       " array([0.44444444, 0.47954545, 0.51464646, 0.54974747, 0.58484848,\n",
       "        0.61994949, 0.65505051, 0.69015152, 0.72525253, 0.76035354,\n",
       "        0.79545455]),\n",
       " <BarContainer object of 10 artists>)"
      ]
     },
     "execution_count": 69,
     "metadata": {},
     "output_type": "execute_result"
    },
    {
     "data": {
      "image/png": "[encoded data removed]",
      "text/plain": [
       "<Figure size 432x288 with 1 Axes>"
      ]
     },
     "metadata": {
      "needs_background": "light"
     },
     "output_type": "display_data"
    }
   ],
   "source": [
    "plt.hist(pd.Series(blue_recalls))\n",
    "plt.hist(pd.Series(green_recalls))"
   ]
  },
  {
   "cell_type": "code",
   "execution_count": 70,
   "metadata": {},
   "outputs": [
    {
     "data": {
      "text/plain": [
       "KstestResult(statistic=0.32, pvalue=6.281176788972264e-05)"
      ]
     },
     "execution_count": 70,
     "metadata": {},
     "output_type": "execute_result"
    }
   ],
   "source": [
    "ks_2samp(green_recalls, blue_recalls)"
   ]
  },
  {
   "cell_type": "code",
   "execution_count": 71,
   "metadata": {},
   "outputs": [
    {
     "data": {
      "text/plain": [
       "(0.5881414624668633, 0.6282914148043014, 0.6266733863559213)"
      ]
     },
     "execution_count": 71,
     "metadata": {},
     "output_type": "execute_result"
    }
   ],
   "source": [
    "pd.Series(blue_recalls).mean(), pd.Series(green_recalls).mean(), pd.Series(red_recalls).mean()"
   ]
  },
  {
   "cell_type": "code",
   "execution_count": null,
   "metadata": {},
   "outputs": [],
   "source": []
  },
  {
   "cell_type": "code",
   "execution_count": 72,
   "metadata": {},
   "outputs": [
    {
     "data": {
      "text/plain": [
       "(0.6317016317016317, 0.6209081309398099)"
      ]
     },
     "execution_count": 72,
     "metadata": {},
     "output_type": "execute_result"
    }
   ],
   "source": [
    "recall_score(pred_df.true, model_preds_f, pos_label = 'Bad'), recall_score(pred_df.true, model_preds_f, pos_label = 'Good')"
   ]
  },
  {
   "cell_type": "code",
   "execution_count": 42,
   "metadata": {},
   "outputs": [
    {
     "name": "stdout",
     "output_type": "stream",
     "text": [
      "0.5772615276311158 0.6363636363636364\n"
     ]
    }
   ],
   "source": [
    "overall_preds = rocket_models[0].predict(original_test_X)\n",
    "print(recall_score(pred_df.true, overall_preds, pos_label = 'Good'), recall_score(pred_df.true, overall_preds, pos_label = 'Bad'))"
   ]
  },
  {
   "cell_type": "code",
   "execution_count": null,
   "metadata": {},
   "outputs": [],
   "source": []
  },
  {
   "cell_type": "code",
   "execution_count": null,
   "metadata": {},
   "outputs": [],
   "source": []
  },
  {
   "cell_type": "code",
   "execution_count": 10,
   "metadata": {},
   "outputs": [],
   "source": [
    "train_preproc_act_less, train_preproc_act_more = concat_proc_data_act(train_data)\n",
    "test_preproc_act_less, test_preproc_act_more = concat_proc_data_act(test_data)"
   ]
  },
  {
   "cell_type": "code",
   "execution_count": 11,
   "metadata": {},
   "outputs": [],
   "source": [
    "test_preproc_act_less_X, test_preproc_act_less_y = split_X_y(test_preproc_act_less)\n",
    "test_preproc_act_more_X, test_preproc_act_more_y = split_X_y(test_preproc_act_more)"
   ]
  },
  {
   "cell_type": "code",
   "execution_count": 12,
   "metadata": {},
   "outputs": [],
   "source": [
    "act_less_preds = model_preds(test_preproc_act_less_X)\n",
    "act_more_preds = model_preds(test_preproc_act_more_X)"
   ]
  },
  {
   "cell_type": "code",
   "execution_count": 13,
   "metadata": {},
   "outputs": [
    {
     "data": {
      "text/plain": [
       "(0.6142857142857143, 0.6227208976157083)"
      ]
     },
     "execution_count": 13,
     "metadata": {},
     "output_type": "execute_result"
    }
   ],
   "source": [
    "recall_score(test_preproc_act_less_y, act_less_preds, pos_label = 'Bad'), recall_score(test_preproc_act_less_y, act_less_preds, pos_label = 'Good')"
   ]
  },
  {
   "cell_type": "code",
   "execution_count": 14,
   "metadata": {},
   "outputs": [
    {
     "data": {
      "text/plain": [
       "(0.6484018264840182, 0.6190812720848057)"
      ]
     },
     "execution_count": 14,
     "metadata": {},
     "output_type": "execute_result"
    }
   ],
   "source": [
    "recall_score(test_preproc_act_more_y, act_more_preds, pos_label = 'Bad'), recall_score(test_preproc_act_more_y, act_more_preds, pos_label = 'Good')"
   ]
  },
  {
   "cell_type": "code",
   "execution_count": 23,
   "metadata": {},
   "outputs": [],
   "source": [
    "train_preproc_sleep_less, train_preproc_sleep_more = concat_proc_data_sleep(train_data)\n",
    "test_preproc_sleep_less, test_preproc_sleep_more = concat_proc_data_sleep(test_data)\n",
    "\n",
    "test_preproc_sleep_less_X, test_preproc_sleep_less_y = split_X_y(test_preproc_sleep_less)\n",
    "test_preproc_sleep_more_X, test_preproc_sleep_more_y = split_X_y(test_preproc_sleep_more)\n",
    "\n",
    "sleep_less_preds = model_preds(test_preproc_sleep_less_X)\n",
    "sleep_more_preds = model_preds(test_preproc_sleep_more_X)"
   ]
  },
  {
   "cell_type": "code",
   "execution_count": 24,
   "metadata": {},
   "outputs": [
    {
     "data": {
      "text/plain": [
       "(0.6536796536796536, 0.6609918578830496)"
      ]
     },
     "execution_count": 24,
     "metadata": {},
     "output_type": "execute_result"
    }
   ],
   "source": [
    "recall_score(test_preproc_sleep_less_y, sleep_less_preds, pos_label = 'Bad'), recall_score(test_preproc_sleep_less_y, sleep_less_preds, pos_label = 'Good')"
   ]
  },
  {
   "cell_type": "code",
   "execution_count": 25,
   "metadata": {},
   "outputs": [
    {
     "data": {
      "text/plain": [
       "(0.6060606060606061, 0.5845637583892618)"
      ]
     },
     "execution_count": 25,
     "metadata": {},
     "output_type": "execute_result"
    }
   ],
   "source": [
    "recall_score(test_preproc_sleep_more_y, sleep_more_preds, pos_label = 'Bad'), recall_score(test_preproc_sleep_more_y, sleep_more_preds, pos_label = 'Good')"
   ]
  }
 ],
 "metadata": {
  "kernelspec": {
   "display_name": "Python 3 (ipykernel)",
   "language": "python",
   "name": "python3"
  },
  "language_info": {
   "codemirror_mode": {
    "name": "ipython",
    "version": 3
   },
   "file_extension": ".py",
   "mimetype": "text/x-python",
   "name": "python",
   "nbconvert_exporter": "python",
   "pygments_lexer": "ipython3",
   "version": "3.9.5"
  }
 },
 "nbformat": 4,
 "nbformat_minor": 2
}
